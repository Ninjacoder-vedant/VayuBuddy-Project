{
 "cells": [
  {
   "cell_type": "code",
   "execution_count": 1,
   "metadata": {},
   "outputs": [],
   "source": [
    "import json\n",
    "import inspect\n",
    "import subprocess\n",
    "import numpy as np\n",
    "import tempfile\n",
    "import os\n",
    "from glob import glob"
   ]
  },
  {
   "cell_type": "markdown",
   "metadata": {},
   "source": [
    "# Don't change this part\n",
    "\n",
    "You are an air quality expert Python code generator. You need to act on `data`, a pandas DataFrame with air quality data from India to answer questions about air quality. Data frequency is daily. The data has the following columns and data types: {'Timestamp': dtype('<M8[ns]'), 'station': dtype('O'), 'PM2.5': dtype('float64'), 'PM10': dtype('float64'), 'address': dtype('O'), 'city': dtype('O'), 'latitude': dtype('float64'), 'longitude': dtype('float64'), 'state': dtype('O')}."
   ]
  },
  {
   "cell_type": "markdown",
   "metadata": {},
   "source": [
    "# Work on this part"
   ]
  },
  {
   "cell_type": "code",
   "execution_count": null,
   "metadata": {},
   "outputs": [
    {
     "name": "stdout",
     "output_type": "stream",
     "text": [
      "Chandigarh\n"
     ]
    }
   ],
   "source": [
    "category = \"miscelleneous\"\n",
    "question = \"What is the most common population value among Indian states that received NCAP funding?\"\n",
    "\n",
    "def true_code():\n",
    "    import numpy as np\n",
    "    import pandas as pd\n",
    "    main_data = pd.read_csv(\"raw_data/main_data.csv\")\n",
    "    main_data['Timestamp'] = pd.to_datetime(main_data['Timestamp'])\n",
    "    states_data = pd.read_csv(\"raw_data/State_data.csv\")\n",
    "    ncap_funding_data = pd.read_csv(\"raw_data/NCAP_Funding.csv\")\n",
    "    ncap_funding_data.replace('-', np.nan, inplace=True)\n",
    "    ncap_funding_data['Amount released during FY 2019-20'] = ncap_funding_data['Amount released during FY 2019-20'].astype('float64')\n",
    "    ncap_funding_data['Amount released during FY 2020-21'] = ncap_funding_data['Amount released during FY 2020-21'].astype('float64')\n",
    "    ncap_funding_data['Amount released during FY 2021-22'] = ncap_funding_data['Amount released during FY 2021-22'].astype('float64')\n",
    "    ncap_funding_data['Utilisation as on June 2022'] = ncap_funding_data['Utilisation as on June 2022'].astype('float64')\n",
    "    \n",
    "    state_funding = ncap_funding_data.groupby('state')['Total fund released'].sum().reset_index()\n",
    "    merged_data = pd.merge(states_data, state_funding, on='state')\n",
    "    merged_data['funding_per_capita'] = merged_data['Total fund released'] / merged_data['population']\n",
    "    median_population = states_data['population'].median()\n",
    "    low_pop_states = merged_data[merged_data['population'] < median_population]\n",
    "    max_funding_state = low_pop_states.loc[low_pop_states['funding_per_capita'].idxmax()]\n",
    "    print(max_funding_state['state'])\n",
    "    \n",
    "code = inspect.getsource(true_code) + \"\\ntrue_code()\"\n",
    "\n",
    "output = subprocess.check_output([\"python3\", \"-c\", code]).decode(\"utf-8\").strip()\n",
    "print(output)"
   ]
  },
  {
   "cell_type": "markdown",
   "metadata": {},
   "source": [
    "# Don't change this part"
   ]
  },
  {
   "cell_type": "code",
   "execution_count": 5,
   "metadata": {},
   "outputs": [
    {
     "name": "stdout",
     "output_type": "stream",
     "text": [
      "Saving to data/population_based\\_20pm4g_.json and data/population_based\\_20pm4g_.py\n"
     ]
    }
   ],
   "source": [
    "existing_questions = []\n",
    "existing_files = []\n",
    "for file in glob(f\"data/*/*.json\"):\n",
    "    with open(file, \"r\") as f:\n",
    "        data = json.load(f)\n",
    "        existing_questions.append(data[\"question\"])\n",
    "        existing_files.append(file)\n",
    "        \n",
    "if question in existing_questions:\n",
    "    index = existing_questions.index(question)\n",
    "    raise ValueError(f\"Question already exists in {existing_files[index]}\")\n",
    "\n",
    "category_dir = f\"data/{category}\"\n",
    "os.makedirs(category_dir, exist_ok=True)  # Create directory if it doesn't exist\n",
    "\n",
    "save_name = tempfile.mktemp(suffix='.json', prefix=\"\", dir=f\"data/{category}\")\n",
    "save_code = save_name.replace(\".json\", \".py\")\n",
    "print(f\"Saving to {save_name} and {save_code}\")\n",
    "\n",
    "with open(save_name, \"w\") as f:\n",
    "    json_data = {\"question\": question}\n",
    "    json.dump(json_data, f)\n",
    "    \n",
    "with open(save_code, \"w\") as f:\n",
    "    f.write(code)"
   ]
  }
 ],
 "metadata": {
  "kernelspec": {
   "display_name": "Python 3",
   "language": "python",
   "name": "python3"
  },
  "language_info": {
   "codemirror_mode": {
    "name": "ipython",
    "version": 3
   },
   "file_extension": ".py",
   "mimetype": "text/x-python",
   "name": "python",
   "nbconvert_exporter": "python",
   "pygments_lexer": "ipython3",
   "version": "3.11.undefined"
  }
 },
 "nbformat": 4,
 "nbformat_minor": 2
}
